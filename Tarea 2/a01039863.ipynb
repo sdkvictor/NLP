{
 "cells": [
  {
   "cell_type": "markdown",
   "id": "7cdeef2f",
   "metadata": {},
   "source": [
    "# Tarea 2"
   ]
  },
  {
   "cell_type": "code",
   "execution_count": 1,
   "id": "42255947",
   "metadata": {},
   "outputs": [],
   "source": [
    "import requests\n",
    "from bs4 import BeautifulSoup\n",
    "import csv"
   ]
  },
  {
   "cell_type": "code",
   "execution_count": 2,
   "id": "947b3c23",
   "metadata": {},
   "outputs": [],
   "source": [
    "# Collect first page of artists’ list\n",
    "page = requests.get('https://web.archive.org/web/20121007172955/https://www.nga.gov/collection/anZ1.htm')"
   ]
  },
  {
   "cell_type": "code",
   "execution_count": 3,
   "id": "fad9dc1e",
   "metadata": {},
   "outputs": [],
   "source": [
    "# Parse then first page\n",
    "soup = BeautifulSoup(page.text, 'html.parser')"
   ]
  },
  {
   "cell_type": "code",
   "execution_count": 4,
   "id": "0a1177b6",
   "metadata": {},
   "outputs": [],
   "source": [
    "# Remove bottom links\n",
    "last_links = soup.find(class_='AlphaNav')\n",
    "last_links.decompose()"
   ]
  },
  {
   "cell_type": "code",
   "execution_count": 5,
   "id": "031c41fd",
   "metadata": {},
   "outputs": [
    {
     "data": {
      "text/plain": [
       "11"
      ]
     },
     "execution_count": 5,
     "metadata": {},
     "output_type": "execute_result"
    }
   ],
   "source": [
    "# Create a file to write to, add headers row\n",
    "f = csv.writer(open('z-artist-names.csv', 'w'))\n",
    "f.writerow(['Name', 'Link'])"
   ]
  },
  {
   "cell_type": "code",
   "execution_count": 6,
   "id": "c7ce4fc7",
   "metadata": {},
   "outputs": [],
   "source": [
    "# Pull all text from the BodyText div\n",
    "artist_name_list = soup.find(class_='BodyText')"
   ]
  },
  {
   "cell_type": "code",
   "execution_count": 7,
   "id": "e2f08760",
   "metadata": {},
   "outputs": [],
   "source": [
    "# Pull text from all instances of <a> tag within BodyText div\n",
    "artist_name_list_items = artist_name_list.find_all('a')"
   ]
  },
  {
   "cell_type": "code",
   "execution_count": 8,
   "id": "75ae13a7",
   "metadata": {},
   "outputs": [
    {
     "name": "stdout",
     "output_type": "stream",
     "text": [
      "Zabaglia, Niccola\n",
      "https://web.archive.org/web/20121007172955/https://www.nga.gov/cgi-bin/tsearch?artistid=11630\n",
      "Zaccone, Fabian\n",
      "https://web.archive.org/web/20121007172955/https://www.nga.gov/cgi-bin/tsearch?artistid=34202\n",
      "Zadkine, Ossip\n",
      "https://web.archive.org/web/20121007172955/https://www.nga.gov/cgi-bin/tsearch?artistid=3475\n",
      "Zaech, Bernhard\n",
      "https://web.archive.org/web/20121007172955/https://www.nga.gov/cgi-bin/tsearch?artistid=25135\n",
      "Zagar, Jacob\n",
      "https://web.archive.org/web/20121007172955/https://www.nga.gov/cgi-bin/tsearch?artistid=2298\n",
      "Zagroba, Idalia\n",
      "https://web.archive.org/web/20121007172955/https://www.nga.gov/cgi-bin/tsearch?artistid=23988\n",
      "Zaidenberg, A.\n",
      "https://web.archive.org/web/20121007172955/https://www.nga.gov/cgi-bin/tsearch?artistid=8232\n",
      "Zaidenberg, Arthur\n",
      "https://web.archive.org/web/20121007172955/https://www.nga.gov/cgi-bin/tsearch?artistid=34154\n",
      "Zaisinger, Matthäus\n",
      "https://web.archive.org/web/20121007172955/https://www.nga.gov/cgi-bin/tsearch?artistid=4910\n",
      "Zajac, Jack\n",
      "https://web.archive.org/web/20121007172955/https://www.nga.gov/cgi-bin/tsearch?artistid=3450\n",
      "Zak, Eugène\n",
      "https://web.archive.org/web/20121007172955/https://www.nga.gov/cgi-bin/tsearch?artistid=1986\n",
      "Zakharov, Gurii Fillipovich\n",
      "https://web.archive.org/web/20121007172955/https://www.nga.gov/cgi-bin/tsearch?artistid=3451\n",
      "Zakowortny, Igor\n",
      "https://web.archive.org/web/20121007172955/https://www.nga.gov/cgi-bin/tsearch?artistid=20099\n",
      "Zalce, Alfredo\n",
      "https://web.archive.org/web/20121007172955/https://www.nga.gov/cgi-bin/tsearch?artistid=3452\n",
      "Zalopany, Michele\n",
      "https://web.archive.org/web/20121007172955/https://www.nga.gov/cgi-bin/tsearch?artistid=34309\n",
      "Zammiello, Craig\n",
      "https://web.archive.org/web/20121007172955/https://www.nga.gov/cgi-bin/tsearch?artistid=27191\n",
      "Zammitt, Norman\n",
      "https://web.archive.org/web/20121007172955/https://www.nga.gov/cgi-bin/tsearch?artistid=5846\n",
      "Zampieri, Domenico\n",
      "https://web.archive.org/web/20121007172955/https://www.nga.gov/cgi-bin/tsearch?artistid=3941\n",
      "Zampieri, called Domenichino, Domenico\n",
      "https://web.archive.org/web/20121007172955/https://www.nga.gov/cgi-bin/tsearch?artistid=3941\n",
      "Zanartú, Enrique Antunez\n",
      "https://web.archive.org/web/20121007172955/https://www.nga.gov/cgi-bin/tsearch?artistid=3453\n",
      "Zanchi, Antonio\n",
      "https://web.archive.org/web/20121007172955/https://www.nga.gov/cgi-bin/tsearch?artistid=35173\n",
      "Zanetti, Anton Maria\n",
      "https://web.archive.org/web/20121007172955/https://www.nga.gov/cgi-bin/tsearch?artistid=11133\n",
      "Zanetti Borzino, Leopoldina\n",
      "https://web.archive.org/web/20121007172955/https://www.nga.gov/cgi-bin/tsearch?artistid=3455\n",
      "Zanetti I, Antonio Maria, conte\n",
      "https://web.archive.org/web/20121007172955/https://www.nga.gov/cgi-bin/tsearch?artistid=3454\n",
      "Zanguidi, Jacopo\n",
      "https://web.archive.org/web/20121007172955/https://www.nga.gov/cgi-bin/tsearch?artistid=961\n",
      "Zanini, Giuseppe\n",
      "https://web.archive.org/web/20121007172955/https://www.nga.gov/cgi-bin/tsearch?artistid=11597\n",
      "Zanini-Viola, Giuseppe\n",
      "https://web.archive.org/web/20121007172955/https://www.nga.gov/cgi-bin/tsearch?artistid=11597\n",
      "Zanotti, Giampietro\n",
      "https://web.archive.org/web/20121007172955/https://www.nga.gov/cgi-bin/tsearch?artistid=11631\n",
      "Zao Wou-Ki\n",
      "https://web.archive.org/web/20121007172955/https://www.nga.gov/cgi-bin/tsearch?artistid=3427\n"
     ]
    }
   ],
   "source": [
    "# Create for loop to print out all artists' names\n",
    "for artist_name in artist_name_list_items:\n",
    "    names = artist_name.contents[0]\n",
    "    links = 'https://web.archive.org' + artist_name.get('href')\n",
    "    print(names)\n",
    "    print(links)"
   ]
  },
  {
   "cell_type": "code",
   "execution_count": 9,
   "id": "b8a9cc38",
   "metadata": {},
   "outputs": [],
   "source": [
    "for artist_name in artist_name_list_items:\n",
    "    names = artist_name.contents[0]\n",
    "    links = 'https://web.archive.org' + artist_name.get('href')\n",
    "\n",
    "\n",
    "    # Add each artist’s name and associated link to a row\n",
    "    #f.writerow([names, links])"
   ]
  },
  {
   "cell_type": "code",
   "execution_count": 10,
   "id": "0a515522",
   "metadata": {},
   "outputs": [],
   "source": [
    "pages = []\n",
    "\n",
    "for i in range(1, 5):\n",
    "    url = 'https://web.archive.org/web/20121007172955/https://www.nga.gov/collection/anZ' + str(i) + '.htm'\n",
    "    pages.append(url)"
   ]
  },
  {
   "cell_type": "code",
   "execution_count": 11,
   "id": "18032c87",
   "metadata": {},
   "outputs": [],
   "source": [
    "for item in pages:\n",
    "    page = requests.get(item)\n",
    "    soup = BeautifulSoup(page.text, 'html.parser')\n",
    "\n",
    "    last_links = soup.find(class_='AlphaNav')\n",
    "    last_links.decompose()\n",
    "\n",
    "    artist_name_list = soup.find(class_='BodyText')\n",
    "    artist_name_list_items = artist_name_list.find_all('a')\n",
    "\n",
    "    for artist_name in artist_name_list_items:\n",
    "        names = artist_name.contents[0]\n",
    "        links = 'https://web.archive.org' + artist_name.get('href')\n",
    "\n",
    "        f.writerow([names, links])"
   ]
  },
  {
   "cell_type": "code",
   "execution_count": null,
   "id": "00ef1529",
   "metadata": {},
   "outputs": [],
   "source": []
  }
 ],
 "metadata": {
  "kernelspec": {
   "display_name": "Python 3",
   "language": "python",
   "name": "python3"
  },
  "language_info": {
   "codemirror_mode": {
    "name": "ipython",
    "version": 3
   },
   "file_extension": ".py",
   "mimetype": "text/x-python",
   "name": "python",
   "nbconvert_exporter": "python",
   "pygments_lexer": "ipython3",
   "version": "3.8.8"
  }
 },
 "nbformat": 4,
 "nbformat_minor": 5
}
